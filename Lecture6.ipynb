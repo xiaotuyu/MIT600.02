{
 "cells": [
  {
   "cell_type": "code",
   "execution_count": 1,
   "metadata": {},
   "outputs": [],
   "source": [
    "import random, pylab\n",
    "\n",
    "#set line width\n",
    "pylab.rcParams['lines.linewidth'] = 4\n",
    "#set font size for titles \n",
    "pylab.rcParams['axes.titlesize'] = 20\n",
    "#set font size for labels on axes\n",
    "pylab.rcParams['axes.labelsize'] = 20\n",
    "#set size of numbers on x-axis\n",
    "pylab.rcParams['xtick.labelsize'] = 16\n",
    "#set size of numbers on y-axis\n",
    "pylab.rcParams['ytick.labelsize'] = 16\n",
    "#set size of ticks on x-axis\n",
    "pylab.rcParams['xtick.major.size'] = 7\n",
    "#set size of ticks on y-axis\n",
    "pylab.rcParams['ytick.major.size'] = 7\n",
    "#set size of markers, e.g., circles representing points\n",
    "#set numpoints for legend\n",
    "pylab.rcParams['legend.numpoints'] = 1"
   ]
  },
  {
   "cell_type": "code",
   "execution_count": 2,
   "metadata": {},
   "outputs": [],
   "source": [
    "class FairRoulette():\n",
    "    def __init__(self):\n",
    "        self.pockets = []\n",
    "        for i in range(1,37):\n",
    "            self.pockets.append(i)\n",
    "        self.ball = None\n",
    "        self.pocketOdds = len(self.pockets) - 1\n",
    "    def spin(self):\n",
    "        self.ball = random.choice(self.pockets)\n",
    "    def betPocket(self, pocket, amt):\n",
    "        if str(pocket) == str(self.ball):\n",
    "            return amt*self.pocketOdds\n",
    "        else: return -amt\n",
    "    def __str__(self):\n",
    "        return 'Fair Roulette'\n",
    "\n",
    "def playRoulette(game, numSpins, pocket, bet, toPrint):\n",
    "    totPocket = 0\n",
    "    for i in range(numSpins):\n",
    "        game.spin()\n",
    "        totPocket += game.betPocket(pocket, bet)\n",
    "    if toPrint:\n",
    "        print(numSpins, 'spins of', game)\n",
    "        print('Expected return betting', pocket, '=',\\\n",
    "              str(100*totPocket/numSpins) + '%\\n')\n",
    "    return (totPocket/numSpins)"
   ]
  },
  {
   "cell_type": "code",
   "execution_count": 3,
   "metadata": {},
   "outputs": [
    {
     "name": "stdout",
     "output_type": "stream",
     "text": [
      "100 spins of Fair Roulette\n",
      "Expected return betting 2 = -100.0%\n",
      "\n",
      "100 spins of Fair Roulette\n",
      "Expected return betting 2 = 44.0%\n",
      "\n",
      "100 spins of Fair Roulette\n",
      "Expected return betting 2 = -28.0%\n",
      "\n",
      "1000000 spins of Fair Roulette\n",
      "Expected return betting 2 = -0.046%\n",
      "\n",
      "1000000 spins of Fair Roulette\n",
      "Expected return betting 2 = 0.602%\n",
      "\n",
      "1000000 spins of Fair Roulette\n",
      "Expected return betting 2 = 0.7964%\n",
      "\n"
     ]
    }
   ],
   "source": [
    "random.seed(0)\n",
    "game = FairRoulette()\n",
    "for numSpins in (100, 1000000):\n",
    "    for i in range(3):\n",
    "        playRoulette(game, numSpins, 2, 1, True)"
   ]
  },
  {
   "cell_type": "code",
   "execution_count": null,
   "metadata": {},
   "outputs": [],
   "source": [
    "class EuRoulette(FairRoulette):\n",
    "    def __init__(self):\n",
    "        FairRoulette.__init__(self)\n",
    "        self.pockets.append('0')\n",
    "    def __str__(self):\n",
    "        return 'European Roulette'\n",
    "\n",
    "class AmRoulette(EuRoulette):\n",
    "    def __init__(self):\n",
    "        EuRoulette.__init__(self)\n",
    "        self.pockets.append('00')\n",
    "    def __str__(self):\n",
    "        return 'American Roulette'\n",
    "        \n",
    "def findPocketReturn(game, numTrials, trialSize, toPrint):\n",
    "    pocketReturns = []\n",
    "    for t in range(numTrials):\n",
    "        trialVals = playRoulette(game, trialSize, 2, 1, toPrint)\n",
    "        pocketReturns.append(trialVals)\n",
    "    return pocketReturns"
   ]
  },
  {
   "cell_type": "code",
   "execution_count": null,
   "metadata": {},
   "outputs": [],
   "source": [
    "class EuRoulette(FairRoulette):\n",
    "    def __init__(self):\n",
    "        FairRoulette.__init__(self)\n",
    "        self.pockets.append('0')\n",
    "    def __str__(self):\n",
    "        return 'European Roulette'\n",
    "\n",
    "class AmRoulette(EuRoulette):\n",
    "    def __init__(self):\n",
    "        EuRoulette.__init__(self)\n",
    "        self.pockets.append('00')\n",
    "    def __str__(self):\n",
    "        return 'American Roulette'\n",
    "        \n",
    "def findPocketReturn(game, numTrials, trialSize, toPrint):\n",
    "    pocketReturns = []\n",
    "    for t in range(numTrials):\n",
    "        trialVals = playRoulette(game, trialSize, 2, 1, toPrint)\n",
    "        pocketReturns.append(trialVals)\n",
    "    return pocketReturns"
   ]
  },
  {
   "cell_type": "code",
   "execution_count": 4,
   "metadata": {},
   "outputs": [
    {
     "name": "stdout",
     "output_type": "stream",
     "text": [
      "\n",
      "Simulate 20 trials of 1000 spins each\n",
      "Exp. return for Fair Roulette = 6.56%\n",
      "Exp. return for European Roulette = -2.26%\n",
      "Exp. return for American Roulette = -8.92%\n",
      "\n",
      "Simulate 20 trials of 10000 spins each\n",
      "Exp. return for Fair Roulette = -1.234%\n",
      "Exp. return for European Roulette = -4.168%\n",
      "Exp. return for American Roulette = -5.752%\n",
      "\n",
      "Simulate 20 trials of 100000 spins each\n",
      "Exp. return for Fair Roulette = 0.8144%\n",
      "Exp. return for European Roulette = -2.6506%\n",
      "Exp. return for American Roulette = -5.113%\n",
      "\n",
      "Simulate 20 trials of 1000000 spins each\n",
      "Exp. return for Fair Roulette = -0.0723%\n",
      "Exp. return for European Roulette = -2.7329%\n",
      "Exp. return for American Roulette = -5.212%\n"
     ]
    }
   ],
   "source": [
    "random.seed(0)\n",
    "numTrials = 20\n",
    "resultDict = {}\n",
    "games = (FairRoulette, EuRoulette, AmRoulette)\n",
    "for G in games:\n",
    "    resultDict[G().__str__()] = []\n",
    "for numSpins in (1000, 10000, 100000, 1000000):\n",
    "    print('\\nSimulate', numTrials, 'trials of', numSpins, 'spins each')\n",
    "    for G in games:\n",
    "        pocketReturns = findPocketReturn(G(), numTrials, numSpins, False)\n",
    "        expReturn = 100*sum(pocketReturns)/len(pocketReturns)\n",
    "        print('Exp. return for', G(), '=', str(round(expReturn, 4)) + '%')             "
   ]
  },
  {
   "cell_type": "code",
   "execution_count": 7,
   "metadata": {},
   "outputs": [],
   "source": [
    "def getMeanAndStd(X):\n",
    "    mean = sum(X)/float(len(X))\n",
    "    tot = 0.0\n",
    "    for x in X:\n",
    "        tot += (x - mean)**2\n",
    "    std = (tot/len(X))**0.5\n",
    "    return mean, std"
   ]
  },
  {
   "cell_type": "code",
   "execution_count": 8,
   "metadata": {},
   "outputs": [],
   "source": [
    "resultDict = {}\n",
    "games = (FairRoulette, EuRoulette, AmRoulette)\n",
    "for G in games:\n",
    "    resultDict[G().__str__()] = []"
   ]
  },
  {
   "cell_type": "code",
   "execution_count": 9,
   "metadata": {},
   "outputs": [
    {
     "name": "stdout",
     "output_type": "stream",
     "text": [
      "\n",
      "Simulate betting a pocket for 20 trials of 100 spins each\n",
      "Exp. return for Fair Roulette = -28.0%, +/- 77.295% with 95% confidence\n",
      "Exp. return for European Roulette = -4.6%, +/- 128.712% with 95% confidence\n",
      "Exp. return for American Roulette = -4.6%, +/- 114.375% with 95% confidence\n",
      "\n",
      "Simulate betting a pocket for 20 trials of 1000 spins each\n",
      "Exp. return for Fair Roulette = -4.24%, +/- 35.519% with 95% confidence\n",
      "Exp. return for European Roulette = -2.26%, +/- 31.1% with 95% confidence\n",
      "Exp. return for American Roulette = 2.6%, +/- 32.373% with 95% confidence\n",
      "\n",
      "Simulate betting a pocket for 20 trials of 10000 spins each\n",
      "Exp. return for Fair Roulette = 1.664%, +/- 11.858% with 95% confidence\n",
      "Exp. return for European Roulette = -1.576%, +/- 15.4% with 95% confidence\n",
      "Exp. return for American Roulette = -6.796%, +/- 5.18% with 95% confidence\n"
     ]
    }
   ],
   "source": [
    "for numSpins in (100, 1000, 10000):\n",
    "    print('\\nSimulate betting a pocket for', numTrials, 'trials of', numSpins, 'spins each')\n",
    "    for G in games:\n",
    "        pocketReturns = findPocketReturn(G(), 20, numSpins, False)\n",
    "        mean, std = getMeanAndStd(pocketReturns)\n",
    "        resultDict[G().__str__()].append((numSpins, 100*mean, 100*std))\n",
    "        print('Exp. return for', G(), '=', str(round(100*mean, 3)) + '%,', '+/- ' + str(round(100*1.96*std, 3)) \n",
    "              + '% with 95% confidence')"
   ]
  },
  {
   "cell_type": "code",
   "execution_count": null,
   "metadata": {},
   "outputs": [],
   "source": []
  }
 ],
 "metadata": {
  "kernelspec": {
   "display_name": "Python 3",
   "language": "python",
   "name": "python3"
  },
  "language_info": {
   "codemirror_mode": {
    "name": "ipython",
    "version": 3
   },
   "file_extension": ".py",
   "mimetype": "text/x-python",
   "name": "python",
   "nbconvert_exporter": "python",
   "pygments_lexer": "ipython3",
   "version": "3.7.0"
  }
 },
 "nbformat": 4,
 "nbformat_minor": 2
}
